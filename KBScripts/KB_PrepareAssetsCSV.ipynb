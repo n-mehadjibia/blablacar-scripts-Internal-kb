{
 "cells": [
  {
   "cell_type": "code",
   "execution_count": 2,
   "id": "b171378e-a800-41b5-a800-381e204b458e",
   "metadata": {},
   "outputs": [],
   "source": [
    "import os\n",
    "import csv"
   ]
  },
  {
   "cell_type": "code",
   "execution_count": 3,
   "id": "fb3bddbe-3df3-47a3-bd0d-1a76cee0e85c",
   "metadata": {},
   "outputs": [],
   "source": [
    "def find_files(parent_directory, folder_name, extensions):\n",
    "    treated_files = []\n",
    "    not_treated_files = []\n",
    "    found_extensions = set()\n",
    "\n",
    "    # Walk through the parent directory and its subdirectories recursively\n",
    "    for root, dirs, files in os.walk(parent_directory):\n",
    "        # Check if there is a folder named 'Images' in the current directory\n",
    "        if folder_name in dirs:\n",
    "            target_folder = os.path.join(root, folder_name)\n",
    "            for root_images, dirs_images, files_images in os.walk(target_folder):\n",
    "                for file in files_images:\n",
    "                    file_extension = os.path.splitext(file)[1].lower()  # Convert to lowercase for case-insensitive comparison\n",
    "                    found_extensions.add(file_extension)\n",
    "                    if file_extension in extensions:\n",
    "                        file_path = os.path.join(root_images, file)\n",
    "                        treated_files.append((file, file_path, file_path, \"true\"))\n",
    "                    else:\n",
    "                        not_treated_files.append(file)\n",
    "\n",
    "    return treated_files, not_treated_files, found_extensions\n",
    "\n",
    "def write_to_csv(file_paths, csv_file):\n",
    "    with open(csv_file, 'w', newline='') as file:\n",
    "        writer = csv.writer(file)\n",
    "        writer.writerow([\"Title\", \"VersionData\",\"PathOnClient\",\"IsZendeskFile__c\"])\n",
    "        for file_path in file_paths:\n",
    "            writer.writerow(file_path)\n"
   ]
  },
  {
   "cell_type": "code",
   "execution_count": 7,
   "id": "a31628e0-84af-4ebd-8fb5-9a994e12c4ac",
   "metadata": {},
   "outputs": [
    {
     "name": "stdout",
     "output_type": "stream",
     "text": [
      "Different file extensions found in the folder: {'.jpg', '.gif', '.png', '.pdf'}\n",
      "All files were taken into account.\n",
      "Number of treated files: 883\n",
      "Number of not treated files: 0\n",
      "File paths successfully written to attachments.csv\n"
     ]
    }
   ],
   "source": [
    "\n",
    "# Define the parent directory, target folder name, and extensions\n",
    "parent_directory = \"/Users/macbook/Desktop/Import KB BBC/sample/with attach_ 104/BBC Knownledge \"\n",
    "target_folder_name = \"Attachments\"\n",
    "extensions = [\".jpg\", \".jpeg\", \".png\", \".gif\", \".pdf\"]\n",
    "\n",
    "treated_files, not_treated_files, found_extensions = find_files(parent_directory, target_folder_name, extensions)\n",
    "\n",
    "# Define the output path for the CSV file\n",
    "output_path = \"attachments.csv\"\n",
    "\n",
    "write_to_csv(treated_files, output_path)\n",
    "\n",
    "print(\"Different file extensions found in the folder:\", found_extensions)\n",
    "\n",
    "if not_treated_files:\n",
    "    print(\"Files that haven't been taken into account:\", not_treated_files)\n",
    "else:\n",
    "    print(\"All files were taken into account.\")\n",
    "\n",
    "print(f\"Number of treated files: {len(treated_files)}\")\n",
    "print(f\"Number of not treated files: {len(not_treated_files)}\")\n",
    "\n",
    "print(f\"File paths successfully written to {output_path}\")"
   ]
  }
 ],
 "metadata": {
  "kernelspec": {
   "display_name": "Python 3 (ipykernel)",
   "language": "python",
   "name": "python3"
  },
  "language_info": {
   "codemirror_mode": {
    "name": "ipython",
    "version": 3
   },
   "file_extension": ".py",
   "mimetype": "text/x-python",
   "name": "python",
   "nbconvert_exporter": "python",
   "pygments_lexer": "ipython3",
   "version": "3.11.7"
  }
 },
 "nbformat": 4,
 "nbformat_minor": 5
}
