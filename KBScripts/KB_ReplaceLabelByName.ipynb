{
 "cells": [
  {
   "cell_type": "code",
   "execution_count": null,
   "id": "875133cf-62fb-4c5a-b2e2-3f93ae7d866e",
   "metadata": {},
   "outputs": [],
   "source": [
    "import pandas as pd"
   ]
  },
  {
   "cell_type": "code",
   "execution_count": null,
   "id": "217bb693-c3f5-4f50-a352-808a64a0878d",
   "metadata": {
    "scrolled": true
   },
   "outputs": [],
   "source": [
    "def replace_categories(import_csv_path, category_csv_path, output_csv_path):\n",
    "    try:\n",
    "        # Load the import CSV file with a comma delimiter\n",
    "        import_df = pd.read_csv(import_csv_path, delimiter=',')\n",
    "        # Load the category CSV file with a semicolon delimiter\n",
    "        category_df = pd.read_csv(category_csv_path, delimiter=';')\n",
    "    except Exception as e:\n",
    "        print(f\"Error reading CSV files: {e}\")\n",
    "        return\n",
    "    \n",
    "    # Print column names to check if 'category' exists\n",
    "    print(\"Import CSV Columns:\", import_df.columns)\n",
    "    print(\"Category CSV Columns:\", category_df.columns)\n",
    "    \n",
    "    # Check if necessary columns exist\n",
    "    if 'category' not in import_df.columns:\n",
    "        print(\"Error: 'category' column not found in import CSV.\")\n",
    "        return\n",
    "    \n",
    "    if 'Label' not in category_df.columns or 'Name' not in category_df.columns:\n",
    "        print(\"Error: 'Label' or 'Name' column not found in category CSV.\")\n",
    "        return\n",
    "\n",
    "    # Create a dictionary from the category CSV for mapping\n",
    "    category_dict = dict(zip(category_df['Label'], category_df['Name']))\n",
    "    \n",
    "    # Initialize a list to keep track of values that couldn't be found\n",
    "    not_found_values = []\n",
    "    \n",
    "    # Replace values in the import CSV using the category dictionary\n",
    "    def map_category(value):\n",
    "        if value in category_dict:\n",
    "            return category_dict[value]\n",
    "        else:\n",
    "            not_found_values.append(value)\n",
    "            return value\n",
    "    \n",
    "    import_df['category'] = import_df['category'].map(map_category)\n",
    "    \n",
    "    # Print the values that couldn't be found\n",
    "    if not_found_values:\n",
    "        print(\"The following values couldn't be found in the category CSV:\")\n",
    "        for value in set(not_found_values):\n",
    "            print(value)\n",
    "    else:\n",
    "        print(\"All values were successfully mapped.\")\n",
    "    \n",
    "    try:\n",
    "        # Save the modified DataFrame to a new CSV file with comma delimiter\n",
    "        import_df.to_csv(output_csv_path, index=False, sep=',')\n",
    "        print(f\"Modified CSV has been saved to {output_csv_path}\")\n",
    "    except Exception as e:\n",
    "        print(f\"Error saving the modified CSV file: {e}\")\n",
    "\n",
    "\n"
   ]
  },
  {
   "cell_type": "code",
   "execution_count": null,
   "id": "6d8e7bf7-aaa9-4d36-b3cd-42765f20ff79",
   "metadata": {},
   "outputs": [],
   "source": [
    "\n",
    "import_csv_path = '/****************'\n",
    "category_csv_path = '/****************'\n",
    "output_csv_path = '/****************'\n",
    "\n",
    "replace_categories(import_csv_path, category_csv_path, output_csv_path)"
   ]
  }
 ],
 "metadata": {
  "kernelspec": {
   "display_name": "Python 3 (ipykernel)",
   "language": "python",
   "name": "python3"
  },
  "language_info": {
   "codemirror_mode": {
    "name": "ipython",
    "version": 3
   },
   "file_extension": ".py",
   "mimetype": "text/x-python",
   "name": "python",
   "nbconvert_exporter": "python",
   "pygments_lexer": "ipython3",
   "version": "3.11.7"
  }
 },
 "nbformat": 4,
 "nbformat_minor": 5
}
