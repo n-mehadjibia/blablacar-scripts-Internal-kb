{
 "cells": [
  {
   "cell_type": "raw",
   "id": "016cc1cf-9c49-4548-9cd2-984eb1dc9505",
   "metadata": {},
   "source": [
    "This script takes the xml from SFDX and make three CSV files with the data categories:  "
   ]
  },
  {
   "cell_type": "raw",
   "id": "083d1b00-4fda-41a5-9117-40d4dece3a14",
   "metadata": {},
   "source": [
    "- CSV with data group family : Extract \"label\" from XML"
   ]
  },
  {
   "cell_type": "raw",
   "id": "142123bb-36d0-496f-bb9b-a9ead7bab806",
   "metadata": {},
   "source": [
    "- CSV with data group family : Extract \"name\" from XML"
   ]
  },
  {
   "cell_type": "raw",
   "id": "d79854d5-8ee1-4431-a590-33c3e8e41a2d",
   "metadata": {},
   "source": [
    "- CSV with a mapping of : \"label\" ; \"name\" "
   ]
  },
  {
   "cell_type": "code",
   "execution_count": null,
   "id": "2ba1431f-7050-46f6-bd15-ac16e7c5a570",
   "metadata": {},
   "outputs": [],
   "source": [
    "import xml.etree.ElementTree as ET\n",
    "import csv"
   ]
  },
  {
   "cell_type": "code",
   "execution_count": 6,
   "id": "36fd51d1-26f1-48ff-be18-5e52c370d92c",
   "metadata": {},
   "outputs": [],
   "source": [
    "def xml_to_csv(input_xml_file, output_label_csv_file, output_name_csv_file, output_labels_with_names_csv_file):\n",
    "    # Parse the XML file\n",
    "    tree = ET.parse(input_xml_file)\n",
    "    root = tree.getroot()\n",
    "    \n",
    "    # Define CSV headers\n",
    "    csv_header = [\"ColumnA\", \"ColumnB\", \"ColumnC\", \"ColumnD\", \"ColumnE\", \"ColumnF\", \"ColumnG\" ]\n",
    "    labels_with_names_header = [\"Label\", \"Name\"]\n",
    "    \n",
    "    # Open the CSV files for writing\n",
    "    with open(output_label_csv_file, 'w', newline='') as labelfile, \\\n",
    "         open(output_name_csv_file, 'w', newline='') as namefile, \\\n",
    "         open(output_labels_with_names_csv_file, 'w', newline='') as labels_with_names_file:\n",
    "        \n",
    "        label_writer = csv.writer(labelfile, delimiter=';')\n",
    "        name_writer = csv.writer(namefile, delimiter=';')\n",
    "        labels_with_names_writer = csv.writer(labels_with_names_file, delimiter=';')\n",
    "        \n",
    "        # Write headers\n",
    "        label_writer.writerow(csv_header)\n",
    "        name_writer.writerow(csv_header)  # Assuming this was intended to write the same header as label_writer\n",
    "        labels_with_names_writer.writerow(labels_with_names_header)\n",
    "        \n",
    "        # Set to keep track of labels already written\n",
    "        written_labels = set()\n",
    "        \n",
    "        # Function to recursively extract data categories and write to CSV\n",
    "        def process_data_categories(element, parent_data=[]):\n",
    "            # Extract label and name\n",
    "            label = element.find('{http://soap.sforce.com/2006/04/metadata}label').text if element.find('{http://soap.sforce.com/2006/04/metadata}label') is not None else \"\"\n",
    "            name = element.find('{http://soap.sforce.com/2006/04/metadata}name').text if element.find('{http://soap.sforce.com/2006/04/metadata}name') is not None else \"\"\n",
    "            \n",
    "            # Append to parent data\n",
    "            current_data_label = parent_data + [label]\n",
    "            current_data_name = parent_data + [name]\n",
    "            \n",
    "            # Write to CSV ensuring each level is in the correct column, but only if label hasn't been written yet\n",
    "            if label not in written_labels:\n",
    "                row_label = [''] * len(csv_header)  # Create a row with the same number of columns as the header\n",
    "                row_name = [''] * len(csv_header)  # Create a row with the same number of columns as the header\n",
    "                \n",
    "                for i, val in enumerate(current_data_label):\n",
    "                    if i < len(row_label):  # Ensure we do not exceed the row length\n",
    "                        row_label[i] = val\n",
    "                for i, val in enumerate(current_data_name):\n",
    "                    if i < len(row_name):  # Ensure we do not exceed the row length\n",
    "                        row_name[i] = val\n",
    "                \n",
    "                label_writer.writerow(row_label)\n",
    "                name_writer.writerow(row_name)\n",
    "                labels_with_names_writer.writerow([label, name])\n",
    "                \n",
    "                # Add label to set of written labels\n",
    "                written_labels.add(label)\n",
    "            \n",
    "            # Recursively process child data categories\n",
    "            for child in element.findall('{http://soap.sforce.com/2006/04/metadata}dataCategory'):\n",
    "                process_data_categories(child, parent_data + [label])\n",
    "        \n",
    "        # Get the root label and name\n",
    "        root_label = root.find('{http://soap.sforce.com/2006/04/metadata}label').text if root.find('{http://soap.sforce.com/2006/04/metadata}label') is not None else \"\"\n",
    "        root_name = root.find('{http://soap.sforce.com/2006/04/metadata}name').text if root.find('{http://soap.sforce.com/2006/04/metadata}name') is not None else \"\"\n",
    "        \n",
    "        # Start processing from the root data categories\n",
    "        for data_category in root.findall('.//{http://soap.sforce.com/2006/04/metadata}dataCategory'):\n",
    "            process_data_categories(data_category, [root_label])\n"
   ]
  },
  {
   "cell_type": "code",
   "execution_count": null,
   "id": "c0bf78a6-f88d-42fc-9ae1-f19f4189e714",
   "metadata": {},
   "outputs": [],
   "source": [
    "# Specify the paths directly\n",
    "xml_path = '/**************'\n",
    "output_label_csv_path = '/**************'\n",
    "output_name_csv_path = '/**************'\n",
    "output_labels_with_names_csv_path = '/**************'\n",
    "\n",
    "# Call the function directly with specified paths\n",
    "xml_to_csv(xml_path, output_label_csv_path, output_name_csv_path, output_labels_with_names_csv_path)"
   ]
  }
 ],
 "metadata": {
  "kernelspec": {
   "display_name": "Python 3 (ipykernel)",
   "language": "python",
   "name": "python3"
  },
  "language_info": {
   "codemirror_mode": {
    "name": "ipython",
    "version": 3
   },
   "file_extension": ".py",
   "mimetype": "text/x-python",
   "name": "python",
   "nbconvert_exporter": "python",
   "pygments_lexer": "ipython3",
   "version": "3.11.7"
  }
 },
 "nbformat": 4,
 "nbformat_minor": 5
}
